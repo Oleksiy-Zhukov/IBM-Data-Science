{
 "cells": [
  {
   "cell_type": "markdown",
   "id": "7fcd8bf9-f8a3-48d0-b600-804c5c2e0c11",
   "metadata": {},
   "source": [
    "# Data Science Tools and Ecosystem"
   ]
  },
  {
   "cell_type": "markdown",
   "id": "98250739-57e8-4fd2-a619-c1cbf5216b13",
   "metadata": {},
   "source": [
    "In this notebook, Data Science Tools and Ecosystem are summarized."
   ]
  },
  {
   "cell_type": "markdown",
   "id": "111f9070-0cdf-4127-ba30-e857b10628e2",
   "metadata": {},
   "source": [
    "Some of the popular languages that Data Scientists use are:\n",
    "\n",
    "1. Python\n",
    "2. R\n",
    "3. Scala \n",
    "4. Java"
   ]
  },
  {
   "cell_type": "markdown",
   "id": "bb0ad00f-02d3-4df2-bc3e-8f179f4167c4",
   "metadata": {},
   "source": [
    "Some of the commonly used libraries used by Data Scientists include:\n",
    "\n",
    "1. Pandas\n",
    "2. NumPy\n",
    "3. Matplotlib"
   ]
  },
  {
   "cell_type": "markdown",
   "id": "2d54944f-2bc9-4c1a-b68b-0a0feef39e09",
   "metadata": {},
   "source": [
    "| Data Science Tools |\n",
    "---\n",
    "| Jupyter |\n",
    "| GitHub |\n",
    "| SQL |"
   ]
  },
  {
   "cell_type": "markdown",
   "id": "6e9e2e24-b070-49e6-91ec-05cfac1492d0",
   "metadata": {},
   "source": [
    "Below are a few examples of evaluating arithmetic expressions in Python"
   ]
  },
  {
   "cell_type": "code",
   "execution_count": 1,
   "id": "11b298f9-7e9b-4e99-8575-99d599981a9a",
   "metadata": {},
   "outputs": [
    {
     "data": {
      "text/plain": [
       "17"
      ]
     },
     "execution_count": 1,
     "metadata": {},
     "output_type": "execute_result"
    }
   ],
   "source": [
    "# This a simple arithmetic expression to mutiply then add integers\n",
    "(3 * 4) + 5"
   ]
  },
  {
   "cell_type": "code",
   "execution_count": 2,
   "id": "6ce85855-1554-4685-857d-330943f38215",
   "metadata": {},
   "outputs": [
    {
     "data": {
      "text/plain": [
       "3.3333333333333335"
      ]
     },
     "execution_count": 2,
     "metadata": {},
     "output_type": "execute_result"
    }
   ],
   "source": [
    "# This will convert 200 minutes to hours by diving by 60\n",
    "200 / 60"
   ]
  },
  {
   "cell_type": "markdown",
   "id": "db4b635d-4e94-4fd5-b54d-0631df366a8d",
   "metadata": {},
   "source": [
    "**Objectives:**\n",
    "\n",
    "* Tools for Data Science\n",
    "* Python Libraries\n",
    "* List Popular Languages for Data Scientists\n",
    "* Examples of Python Code"
   ]
  },
  {
   "cell_type": "markdown",
   "id": "558f6e29-bfe9-4334-ae35-e803e52d59ee",
   "metadata": {},
   "source": [
    "## Author\n",
    "Oleksii"
   ]
  },
  {
   "cell_type": "code",
   "execution_count": null,
   "id": "f2fd2764-ea4c-4877-87b1-350166940a42",
   "metadata": {},
   "outputs": [],
   "source": []
  }
 ],
 "metadata": {
  "kernelspec": {
   "display_name": "Python 3 (ipykernel)",
   "language": "python",
   "name": "python3"
  },
  "language_info": {
   "codemirror_mode": {
    "name": "ipython",
    "version": 3
   },
   "file_extension": ".py",
   "mimetype": "text/x-python",
   "name": "python",
   "nbconvert_exporter": "python",
   "pygments_lexer": "ipython3",
   "version": "3.10.12"
  }
 },
 "nbformat": 4,
 "nbformat_minor": 5
}
